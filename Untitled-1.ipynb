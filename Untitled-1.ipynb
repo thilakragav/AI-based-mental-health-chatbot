{
 "cells": [
  {
   "cell_type": "code",
   "execution_count": 2,
   "metadata": {},
   "outputs": [
    {
     "ename": "GroqError",
     "evalue": "The api_key client option must be set either by passing api_key to the client or by setting the GROQ_API_KEY environment variable",
     "output_type": "error",
     "traceback": [
      "\u001b[1;31m---------------------------------------------------------------------------\u001b[0m",
      "\u001b[1;31mGroqError\u001b[0m                                 Traceback (most recent call last)",
      "Cell \u001b[1;32mIn[2], line 21\u001b[0m\n\u001b[0;32m     18\u001b[0m courses_collection \u001b[38;5;241m=\u001b[39m db[\u001b[38;5;124m\"\u001b[39m\u001b[38;5;124mcourses\u001b[39m\u001b[38;5;124m\"\u001b[39m]\n\u001b[0;32m     20\u001b[0m \u001b[38;5;66;03m# Initialize Groq client\u001b[39;00m\n\u001b[1;32m---> 21\u001b[0m groq_client \u001b[38;5;241m=\u001b[39m \u001b[43mGroq\u001b[49m\u001b[43m(\u001b[49m\u001b[43mapi_key\u001b[49m\u001b[38;5;241;43m=\u001b[39;49m\u001b[43mGROQ_API_KEY\u001b[49m\u001b[43m)\u001b[49m\n\u001b[0;32m     23\u001b[0m \u001b[38;5;66;03m# Function to get AI-generated responses\u001b[39;00m\n\u001b[0;32m     24\u001b[0m \u001b[38;5;28;01mdef\u001b[39;00m \u001b[38;5;21mget_ai_response\u001b[39m(prompt):\n",
      "File \u001b[1;32mc:\\Users\\sunda\\AppData\\Local\\Programs\\Python\\Python312\\Lib\\site-packages\\groq\\_client.py:85\u001b[0m, in \u001b[0;36mGroq.__init__\u001b[1;34m(self, api_key, base_url, timeout, max_retries, default_headers, default_query, http_client, _strict_response_validation)\u001b[0m\n\u001b[0;32m     83\u001b[0m     api_key \u001b[38;5;241m=\u001b[39m os\u001b[38;5;241m.\u001b[39menviron\u001b[38;5;241m.\u001b[39mget(\u001b[38;5;124m\"\u001b[39m\u001b[38;5;124mGROQ_API_KEY\u001b[39m\u001b[38;5;124m\"\u001b[39m)\n\u001b[0;32m     84\u001b[0m \u001b[38;5;28;01mif\u001b[39;00m api_key \u001b[38;5;129;01mis\u001b[39;00m \u001b[38;5;28;01mNone\u001b[39;00m:\n\u001b[1;32m---> 85\u001b[0m     \u001b[38;5;28;01mraise\u001b[39;00m GroqError(\n\u001b[0;32m     86\u001b[0m         \u001b[38;5;124m\"\u001b[39m\u001b[38;5;124mThe api_key client option must be set either by passing api_key to the client or by setting the GROQ_API_KEY environment variable\u001b[39m\u001b[38;5;124m\"\u001b[39m\n\u001b[0;32m     87\u001b[0m     )\n\u001b[0;32m     88\u001b[0m \u001b[38;5;28mself\u001b[39m\u001b[38;5;241m.\u001b[39mapi_key \u001b[38;5;241m=\u001b[39m api_key\n\u001b[0;32m     90\u001b[0m \u001b[38;5;28;01mif\u001b[39;00m base_url \u001b[38;5;129;01mis\u001b[39;00m \u001b[38;5;28;01mNone\u001b[39;00m:\n",
      "\u001b[1;31mGroqError\u001b[0m: The api_key client option must be set either by passing api_key to the client or by setting the GROQ_API_KEY environment variable"
     ]
    }
   ],
   "source": [
    "from flask import Flask, request, jsonify\n",
    "from pymongo import MongoClient\n",
    "from groq import Groq\n",
    "import os\n",
    "from dotenv import load_dotenv\n",
    "\n",
    "# Load environment variables\n",
    "load_dotenv()\n",
    "GROQ_API_KEY = os.getenv(\"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\")\n",
    "MONGO_URI = os.getenv(\"MONGO_URI\", \"mongodb://localhost:27017\")\n",
    "\n",
    "# Initialize Flask app\n",
    "app = Flask(__name__)\n",
    "\n",
    "# Initialize MongoDB\n",
    "client = MongoClient(MONGO_URI)\n",
    "db = client[\"learning_support\"]\n",
    "courses_collection = db[\"courses\"]\n",
    "\n",
    "# Initialize Groq client\n",
    "groq_client = Groq(api_key=GROQ_API_KEY)\n",
    "\n",
    "# Function to get AI-generated responses\n",
    "def get_ai_response(prompt):\n",
    "    response = groq_client.chat.completions.create(\n",
    "        model=\"llama3-8b-8192\",  # Change to \"mixtral-8x7b\" or another model if needed\n",
    "        messages=[{\"role\": \"user\", \"content\": prompt}]\n",
    "    )\n",
    "    return response.choices[0].message[\"content\"]\n",
    "\n",
    "# Endpoint to handle chatbot queries\n",
    "@app.route(\"/chatbot\", methods=[\"POST\"])\n",
    "def chatbot():\n",
    "    data = request.json\n",
    "    user_query = data.get(\"query\", \"\")\n",
    "\n",
    "    # Search in MongoDB for relevant courses\n",
    "    search_results = list(courses_collection.find({\"tags\": {\"$regex\": user_query, \"$options\": \"i\"}}, {\"_id\": 0}))\n",
    "\n",
    "    # If courses exist, return them\n",
    "    if search_results:\n",
    "        return jsonify({\"response\": \"Here are some recommended courses:\", \"courses\": search_results})\n",
    "\n",
    "    # Otherwise, get AI-generated advice\n",
    "    ai_response = get_ai_response(user_query)\n",
    "    return jsonify({\"response\": ai_response, \"courses\": []})\n",
    "\n",
    "# Sample endpoint to add courses to MongoDB\n",
    "@app.route(\"/add_course\", methods=[\"POST\"])\n",
    "def add_course():\n",
    "    course = request.json\n",
    "    courses_collection.insert_one(course)\n",
    "    return jsonify({\"message\": \"Course added successfully\"})\n",
    "\n",
    "# Run Flask app\n",
    "if __name__ == \"__main__\":\n",
    "    app.run(debug=True)\n"
   ]
  }
 ],
 "metadata": {
  "kernelspec": {
   "display_name": "Python 3",
   "language": "python",
   "name": "python3"
  },
  "language_info": {
   "codemirror_mode": {
    "name": "ipython",
    "version": 3
   },
   "file_extension": ".py",
   "mimetype": "text/x-python",
   "name": "python",
   "nbconvert_exporter": "python",
   "pygments_lexer": "ipython3",
   "version": "3.12.6"
  }
 },
 "nbformat": 4,
 "nbformat_minor": 2
}
